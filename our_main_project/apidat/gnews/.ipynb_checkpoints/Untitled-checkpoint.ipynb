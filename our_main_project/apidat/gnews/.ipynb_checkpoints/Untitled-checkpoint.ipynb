{
 "cells": [
  {
   "cell_type": "code",
   "execution_count": 63,
   "id": "93aef495",
   "metadata": {},
   "outputs": [],
   "source": [
    "import requests\n",
    "import json\n",
    "from pprint import pprint\n",
    "response_API = requests.get('https://newsapi.org/v2/everything?q=tesla&from=2022-05-09&sortBy=publishedAt&apiKey=1447e6c51fce4acbb52ec9bbcc96100b')\n",
    "data = response_API.text\n",
    "parse_json = json.loads(data)\n",
    "\n"
   ]
  },
  {
   "cell_type": "code",
   "execution_count": 66,
   "id": "e43b5394",
   "metadata": {},
   "outputs": [
    {
     "name": "stdout",
     "output_type": "stream",
     "text": [
      "20\n"
     ]
    }
   ],
   "source": [
    "rows=[]\n",
    "for i in range(0,20):\n",
    "    title = parse_json['articles'][i]['title']\n",
    "    author = parse_json['articles'][i]['author']\n",
    "    content = parse_json['articles'][i]['content']\n",
    "    label = 1\n",
    "    rows.append([title,author,content,label])\n",
    "\n",
    "print(len(rows))"
   ]
  },
  {
   "cell_type": "code",
   "execution_count": null,
   "id": "f914a67c",
   "metadata": {
    "scrolled": true
   },
   "outputs": [],
   "source": []
  },
  {
   "cell_type": "code",
   "execution_count": null,
   "id": "98cba79a",
   "metadata": {},
   "outputs": [],
   "source": []
  },
  {
   "cell_type": "code",
   "execution_count": 67,
   "id": "96fa3191",
   "metadata": {},
   "outputs": [],
   "source": [
    "import win32com.client as win32\n",
    "\n",
    "ExcelApp = win32.Dispatch('Excel.Application')\n",
    "ExcelApp.Visible = True\n",
    "\n",
    "wb = ExcelApp.Workbooks.Add()\n",
    "ws = wb.Worksheets(1)\n",
    "\n",
    "header_labels = ('title','author','content','label')\n",
    "\n",
    "for index,val in enumerate(header_labels):\n",
    "    ws.Cells(1,index + 1).Value = val\n",
    "    \n",
    "row_tracker = 2\n",
    "column_size = len(header_labels)\n",
    "\n",
    "for row in rows:\n",
    "    ws.Range(\n",
    "        ws.Cells(row_tracker,1),\n",
    "        ws.Cells(row_tracker,column_size)\n",
    "    ).Value = row\n",
    "    row_tracker += 1\n",
    "    \n",
    "    "
   ]
  },
  {
   "cell_type": "code",
   "execution_count": null,
   "id": "5aff41b2",
   "metadata": {},
   "outputs": [],
   "source": []
  }
 ],
 "metadata": {
  "kernelspec": {
   "display_name": "Python 3",
   "language": "python",
   "name": "python3"
  },
  "language_info": {
   "codemirror_mode": {
    "name": "ipython",
    "version": 3
   },
   "file_extension": ".py",
   "mimetype": "text/x-python",
   "name": "python",
   "nbconvert_exporter": "python",
   "pygments_lexer": "ipython3",
   "version": "3.8.8"
  }
 },
 "nbformat": 4,
 "nbformat_minor": 5
}
